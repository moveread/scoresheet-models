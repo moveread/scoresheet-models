{
 "cells": [
  {
   "cell_type": "code",
   "execution_count": 15,
   "metadata": {},
   "outputs": [
    {
     "data": {
      "text/plain": [
       "[\n",
       "  \u001b[33m0\u001b[39m,\n",
       "  \u001b[33m0.23350253819201386\u001b[39m,\n",
       "  \u001b[33m0.4670050763840277\u001b[39m,\n",
       "  \u001b[33m0.5329949236159723\u001b[39m,\n",
       "  \u001b[33m0.7664974618079862\u001b[39m,\n",
       "  \u001b[33m1\u001b[39m\n",
       "]"
      ]
     },
     "execution_count": 15,
     "metadata": {},
     "output_type": "execute_result"
    }
   ],
   "source": [
    "import { Grid, grid, Model } from \"./index.ts\";\n",
    "import { models } from './models.ts'\n",
    "import { range } from \"./util/arrays.ts\";\n",
    "\n",
    "const llobregat23: Model = {\n",
    "  boxWidth: 0.23350253819201386,\n",
    "  rows: 30,\n",
    "  columns: [null, 0.06598984723194462, null]\n",
    "}\n",
    "\n",
    "export const llobrTemplate: Grid = {\n",
    "  rows: [0.0, 0.03333333333333333, 0.06666666666666667, 0.1, 0.13333333333333333, 0.16666666666666666, 0.2, 0.23333333333333334, 0.26666666666666666, 0.3, 0.3333333333333333, 0.36666666666666664, 0.4, 0.43333333333333335, 0.4666666666666667, 0.5, 0.5333333333333333, 0.5666666666666667, 0.6, 0.6333333333333333, 0.6666666666666666, 0.7, 0.7333333333333333, 0.7666666666666667, 0.8, 0.8333333333333334, 0.8666666666666667, 0.9, 0.9333333333333333, 0.9666666666666667, 1.0],\n",
    "  cols: [0.0, 0.23350253819201386, 0.4670050763840277, 0.5329949236159723, 0.7664974618079862, 1.0]\n",
    "}\n",
    "\n",
    "export const fcdeTemplate: Grid = {\n",
    "  rows: [0.0, 0.04, 0.08, 0.12, 0.16, 0.2, 0.24, 0.28, 0.32, 0.36, 0.4, 0.44, 0.48, 0.52, 0.56, 0.6, 0.64, 0.68, 0.72, 0.76, 0.8, 0.84, 0.88, 0.92, 0.96, 1.0],\n",
    "  cols: [0.0, 0.14509394397496592, 0.29018788794993183, 0.3183716055889924, 0.35490605602503406, 0.5, 0.6450939439749659, 0.6732776616140265, 0.7098121120500681, 0.8549060560250341, 1.0]\n",
    "}\n",
    "grid(llobregat23).cols\n",
    "// grid(models.fcde)\n",
    "// const xs = []\n",
    "// for (const i of range(llobrTemplate.cols.length-1)) {\n",
    "//   xs.push(llobrTemplate.cols[i+1]-llobrTemplate.cols[i])\n",
    "// }\n",
    "// xs"
   ]
  }
 ],
 "metadata": {
  "kernelspec": {
   "display_name": "Deno",
   "language": "typescript",
   "name": "deno"
  },
  "language_info": {
   "file_extension": ".ts",
   "mimetype": "text/x.typescript",
   "name": "typescript",
   "nb_converter": "script",
   "pygments_lexer": "typescript",
   "version": "5.3.3"
  }
 },
 "nbformat": 4,
 "nbformat_minor": 2
}
