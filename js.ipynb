{
 "cells": [
  {
   "cell_type": "code",
   "execution_count": 11,
   "metadata": {},
   "outputs": [],
   "source": [
    "import { DOMParser } from \"https://deno.land/x/deno_dom/deno-dom-wasm.ts\";\n",
    "const CONTAINER_URL = 'https://movereadcdn.blob.core.windows.net/scoresheet-models/'"
   ]
  },
  {
   "cell_type": "code",
   "execution_count": 7,
   "metadata": {},
   "outputs": [],
   "source": [
    "async function fetchModels() {\n",
    "  const response = await fetch(`${CONTAINER_URL}?comp=list`)\n",
    "  return response.text()\n",
    "}\n",
    "\n",
    "const xml = await fetchModels()"
   ]
  },
  {
   "cell_type": "code",
   "execution_count": 5,
   "metadata": {},
   "outputs": [
    {
     "data": {
      "text/plain": [
       "{\n",
       "  boxWidth: \u001b[33m0.14509394397496592\u001b[39m,\n",
       "  rows: \u001b[33m25\u001b[39m,\n",
       "  columns: [\n",
       "    \u001b[1mnull\u001b[22m,\n",
       "    \u001b[33m0.02818371763906058\u001b[39m,\n",
       "    \u001b[33m0.03653445043604164\u001b[39m,\n",
       "    \u001b[1mnull\u001b[22m,\n",
       "    \u001b[33m0.02818371763906058\u001b[39m,\n",
       "    \u001b[33m0.03653445043604164\u001b[39m,\n",
       "    \u001b[1mnull\u001b[22m\n",
       "  ]\n",
       "}"
      ]
     },
     "execution_count": 5,
     "metadata": {},
     "output_type": "execute_result"
    }
   ],
   "source": [
    "async function fetchModel(id: string) {\n",
    "  const response = await fetch(CONTAINER_URL + id + '.json')\n",
    "  return response.json()\n",
    "}\n",
    "\n",
    "const r = await fetch(CONTAINER_URL + 'fcde.json')\n",
    "await r.json()"
   ]
  }
 ],
 "metadata": {
  "kernelspec": {
   "display_name": "Deno",
   "language": "typescript",
   "name": "deno"
  },
  "language_info": {
   "file_extension": ".ts",
   "mimetype": "text/x.typescript",
   "name": "typescript",
   "nb_converter": "script",
   "pygments_lexer": "typescript",
   "version": "5.3.3"
  }
 },
 "nbformat": 4,
 "nbformat_minor": 2
}
