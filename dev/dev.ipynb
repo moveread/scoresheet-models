{
 "cells": [
  {
   "cell_type": "code",
   "execution_count": 1,
   "metadata": {},
   "outputs": [],
   "source": [
    "from functools import cached_property\n",
    "from pydantic import BaseModel\n",
    "import pure_cv as vc\n",
    "import cv2 as cv\n",
    "import haskellian as hk\n",
    "import numpy as np\n",
    "from scoresheet_models import Model, models"
   ]
  },
  {
   "cell_type": "code",
   "execution_count": 6,
   "metadata": {},
   "outputs": [],
   "source": [
    "img = vc.imread('images/models/fcde/xl.jpg')\n",
    "h, w = img.shape[:2]"
   ]
  },
  {
   "cell_type": "code",
   "execution_count": 11,
   "metadata": {},
   "outputs": [],
   "source": [
    "Vec2 = tuple[float, float]\n",
    "\n",
    "class Coords(BaseModel):\n",
    "  tl: Vec2\n",
    "  size: Vec2\n",
    "\n",
    "coords = Coords(tl=[0.05, 0.195], size=[0.93, 0.66])\n",
    "\n",
    "\n",
    "def rescaled_coords(coords: Coords, model: Model) -> Coords:\n",
    "  ...\n",
    "\n",
    "idx = 0\n",
    "model = models['fcde']\n",
    "tl = np.array(coords.tl) * [w, h]\n",
    "size = np.array(coords.size) * [w, h]\n",
    "box_size = model.box_size * size\n",
    "boxes = model.box_positions[idx]\n",
    "\n",
    "x, y = boxes\n",
    "dx, dy = box_size"
   ]
  },
  {
   "cell_type": "code",
   "execution_count": 12,
   "metadata": {},
   "outputs": [
    {
     "data": {
      "text/plain": [
       "[0, 0.0]"
      ]
     },
     "execution_count": 12,
     "metadata": {},
     "output_type": "execute_result"
    }
   ],
   "source": [
    "boxes"
   ]
  }
 ],
 "metadata": {
  "kernelspec": {
   "display_name": ".venv",
   "language": "python",
   "name": "python3"
  },
  "language_info": {
   "codemirror_mode": {
    "name": "ipython",
    "version": 3
   },
   "file_extension": ".py",
   "mimetype": "text/x-python",
   "name": "python",
   "nbconvert_exporter": "python",
   "pygments_lexer": "ipython3",
   "version": "3.11.6"
  }
 },
 "nbformat": 4,
 "nbformat_minor": 2
}
