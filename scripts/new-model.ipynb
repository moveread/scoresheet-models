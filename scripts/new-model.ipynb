{
 "cells": [
  {
   "cell_type": "code",
   "execution_count": null,
   "metadata": {},
   "outputs": [],
   "source": [
    "from glob import glob\n",
    "import os\n",
    "from dotenv import load_dotenv\n",
    "load_dotenv()\n",
    "import numpy as np\n",
    "import pure_cv as vc\n",
    "from haskellian import iter as I, Iter, funcs as F, IsLeft\n",
    "import scoresheet_models as sm\n",
    "import robust_extraction2 as re\n",
    "\n",
    "PATHS = sorted(glob('imgs/**/*.jpg', recursive=True))"
   ]
  },
  {
   "cell_type": "markdown",
   "metadata": {},
   "source": [
    "### 1. Identify grid corners\n",
    "- Fix `s` and `t` so that next steps are easier\n",
    "\n",
    "**Note: the model shall only include the grid of moves, not extra rows or cols**\n",
    "\n",
    "So, exclude the left of the first number column!"
   ]
  },
  {
   "cell_type": "code",
   "execution_count": null,
   "metadata": {},
   "outputs": [],
   "source": [
    "img = vc.imread('imgs/model.jpg')\n",
    "h, w = img.shape[:2]\n",
    "\n",
    "T = np.array([0.08, 0.168])\n",
    "S = np.array([0.888, 0.727])\n",
    "\n",
    "sheet_w = w * S[0]\n",
    "sheet_h = h * S[1]\n",
    "\n",
    "tl = T*[w, h]\n",
    "br = (S+T)*[w, h]\n",
    "\n",
    "vc.show(vc.draw.vertices(img, [tl, br], radius=10))"
   ]
  },
  {
   "cell_type": "markdown",
   "metadata": {},
   "source": [
    "### 2. Find box size\n",
    "- Relative box width\n",
    "- Number of rows (of boxes, not grid lines)\n",
    "- The image will display all points in the first block. They should match exactly only by setting `BOX_WIDTH` and `NUM_ROWS`"
   ]
  },
  {
   "cell_type": "code",
   "execution_count": null,
   "metadata": {},
   "outputs": [],
   "source": [
    "BOX_WIDTH = 0.23\n",
    "NUM_ROWS = 30\n",
    "\n",
    "def abs_box(box_w, num_rows):\n",
    "  abs_box_w = box_w * sheet_w\n",
    "  abs_box_h = sheet_h / num_rows\n",
    "  return abs_box_w, abs_box_h\n",
    "\n",
    "def block_points(top_left, box_w = BOX_WIDTH, num_rows = NUM_ROWS):\n",
    "  abs_box_w, abs_box_h = abs_box(box_w, num_rows)\n",
    "  first_col_lefts = [top_left + [0, abs_box_h*i] for i in range(NUM_ROWS+1)]\n",
    "  first_col_rights = [top_left + [abs_box_w, abs_box_h*i] for i in range(NUM_ROWS+1)]\n",
    "  second_col_rights = [top_left + [2*abs_box_w, abs_box_h*i] for i in range(NUM_ROWS+1)]\n",
    "  return first_col_lefts + first_col_rights + second_col_rights\n",
    "\n",
    "first_block_points = block_points(tl)\n",
    "vc.show(vc.draw.vertices(img, first_block_points))"
   ]
  },
  {
   "cell_type": "markdown",
   "metadata": {},
   "source": [
    "### 3. Find inter-block space (if applicable)\n",
    "The image shows the left points of the second block numbers. They should match exactly"
   ]
  },
  {
   "cell_type": "code",
   "execution_count": null,
   "metadata": {},
   "outputs": [],
   "source": [
    "SPACE_W: float | None = None\n",
    "\n",
    "abs_box_w, abs_box_h = abs_box(BOX_WIDTH, NUM_ROWS)\n",
    "\n",
    "def abs_space(space_w = SPACE_W):\n",
    "  return (space_w or 0) * sheet_w\n",
    "abs_space_w = abs_space()\n",
    "second_block_tl = tl + [2*abs_box_w + abs_space_w, 0]\n",
    "num_points = [second_block_tl + [0, abs_box_h*i] for i in range(NUM_ROWS+1)]\n",
    "vc.show(vc.draw.vertices(img, num_points))"
   ]
  },
  {
   "cell_type": "markdown",
   "metadata": {},
   "source": [
    "### 4. Find number box width"
   ]
  },
  {
   "cell_type": "code",
   "execution_count": null,
   "metadata": {},
   "outputs": [],
   "source": [
    "NUM_W: float = 0.07\n",
    "abs_num_w = NUM_W * sheet_w\n",
    "\n",
    "second_block_points = block_points(second_block_tl + [abs_num_w, 0])\n",
    "vc.show(vc.draw.vertices(img, second_block_points))"
   ]
  },
  {
   "cell_type": "markdown",
   "metadata": {},
   "source": [
    "### 5. Number of blocks and final adjustments"
   ]
  },
  {
   "cell_type": "code",
   "execution_count": null,
   "metadata": {},
   "outputs": [],
   "source": [
    "print('Current parameters:')\n",
    "print(f'  - Box Width: {BOX_WIDTH}')\n",
    "print(f'  - Space Width: {SPACE_W}')\n",
    "print(f'  - Number Width: {NUM_W}')"
   ]
  },
  {
   "cell_type": "code",
   "execution_count": null,
   "metadata": {},
   "outputs": [],
   "source": [
    "NUM_BLOCKS = 2\n",
    "FINAL_BOX_WIDTH = BOX_WIDTH\n",
    "FINAL_SPACE_W = SPACE_W\n",
    "FINAL_NUM_W = NUM_W\n",
    "\n",
    "abs_box_w, abs_box_h = abs_box(FINAL_BOX_WIDTH, NUM_ROWS)\n",
    "abs_space_w = abs_space(FINAL_SPACE_W)\n",
    "\n",
    "block_tls = [tl + [i*(2*abs_box_w + abs_space_w + abs_num_w), 0] for i in range(NUM_BLOCKS)]\n",
    "all_points = I.flatten(block_points(block_tl, FINAL_BOX_WIDTH, NUM_ROWS) for block_tl in block_tls).sync()\n",
    "\n",
    "vc.show(vc.draw.vertices(img, all_points))"
   ]
  },
  {
   "cell_type": "markdown",
   "metadata": {},
   "source": [
    "### 6. Result"
   ]
  },
  {
   "cell_type": "code",
   "execution_count": null,
   "metadata": {},
   "outputs": [],
   "source": [
    "columns = [None]\n",
    "for i in range(NUM_BLOCKS-1):\n",
    "  if SPACE_W is not None:\n",
    "    columns.append(SPACE_W)\n",
    "  columns.extend([NUM_W, None])\n",
    "\n",
    "model = sm.Model(boxWidth=BOX_WIDTH, rows=NUM_ROWS, columns=columns)\n",
    "print('Model:', model)\n",
    "vc.show(sm.draw(img, model, s=S, t=T))"
   ]
  },
  {
   "cell_type": "markdown",
   "metadata": {},
   "source": [
    "### 7. Visualize Extracted Boxes"
   ]
  },
  {
   "cell_type": "code",
   "execution_count": null,
   "metadata": {},
   "outputs": [],
   "source": [
    "boxes = sm.extract_boxes(model, img, size=S, tl=T, pads=sm.Pads(l=0, r=0, t=0, b=0))\n",
    "vc.show(*boxes[:16], ncols=4, height=2)"
   ]
  },
  {
   "cell_type": "markdown",
   "metadata": {},
   "source": [
    "### 8. Extend model for Robust Extraction\n",
    "- Visualize commonly detected extra rows and cols, and add them above in pre/post offsets\n",
    "- Choose between the cells below, to see everything or just the final result"
   ]
  },
  {
   "cell_type": "code",
   "execution_count": 130,
   "metadata": {},
   "outputs": [
    {
     "name": "stdout",
     "output_type": "stream",
     "text": [
      "boxWidth=0.23 rows=30 columns=[None, 0.07, None] pre_row_offsets=[0.02666666666666667, 0.03333333333333333] post_row_offsets=[] pre_col_offsets=[] post_col_offsets=[]\n"
     ]
    }
   ],
   "source": [
    "model = re.ExtendedModel(\n",
    "  boxWidth=BOX_WIDTH, rows=NUM_ROWS, columns=columns,\n",
    "  pre_row_offsets=[0.8/30, 1/30],\n",
    "  post_row_offsets=[],\n",
    "  pre_col_offsets=[],\n",
    "  post_col_offsets=[]\n",
    ")\n",
    "print(model)"
   ]
  },
  {
   "cell_type": "code",
   "execution_count": null,
   "metadata": {},
   "outputs": [],
   "source": [
    "# JUST THE RESULT\n",
    "for i, path in Iter(PATHS).enumerate().skip(0):\n",
    "  print(i, path)\n",
    "  try:\n",
    "    img = vc.imread(path)\n",
    "    if img.shape[1] > img.shape[0]:\n",
    "      print('Skipping rotated image')\n",
    "      continue\n",
    "    corr, cnts = re.extract(img, model).unsafe()\n",
    "    display(vc.show(img, vc.draw.contours(corr, cnts)))\n",
    "  except (Exception, IsLeft) as e:\n",
    "    print('Oops:', e)\n",
    "    display(vc.show(img))"
   ]
  },
  {
   "cell_type": "code",
   "execution_count": null,
   "metadata": {},
   "outputs": [],
   "source": [
    "# A FEW INTERMEDIATE STEPS\n",
    "for i, path in Iter(PATHS).enumerate().skip(0):\n",
    "  print(i, path)\n",
    "  try:\n",
    "    img = vc.imread(path)\n",
    "    if img.shape[1] > img.shape[0]:\n",
    "      print('Skipping rotated image')\n",
    "      continue\n",
    "    corr = re.pipeline.autocorrect(img, model).unsafe()\n",
    "    all_lines = re.pipeline.cropped_lines(corr, pad_v=model.rmin, pad_h=model.cmin)\n",
    "    rows, cols = re.pipeline.head(corr, model)\n",
    "    drawn_rows = F.pipe(corr, *[vc.draw.lines(lines=c, color=vc.mod_color(i, 6)) for i, c in enumerate(rows)])\n",
    "    drawn_cols = F.pipe(corr, *[vc.draw.lines(lines=c, color=vc.mod_color(i, 6)) for i, c in enumerate(cols)])\n",
    "    cnts = re.pipeline.extract_contours(corr, model).unsafe()\n",
    "    fig = vc.show(\n",
    "      ('Original', img),\n",
    "      ('All lines', vc.draw.lines(corr, all_lines)),\n",
    "      ('Row clusters', drawn_rows),\n",
    "      ('Column clusters', drawn_cols),\n",
    "      ('Contours', vc.draw.contours(corr, cnts)),\n",
    "      ncols=5\n",
    "    )\n",
    "    display(fig)\n",
    "  except (Exception, IsLeft) as e:\n",
    "    print('Oops:', e)\n",
    "    display(vc.show(img))"
   ]
  },
  {
   "cell_type": "markdown",
   "metadata": {},
   "source": [
    "### 9. Upload to CDN"
   ]
  },
  {
   "cell_type": "code",
   "execution_count": 131,
   "metadata": {},
   "outputs": [
    {
     "name": "stdout",
     "output_type": "stream",
     "text": [
      "Model saved! Verifying...\n",
      "Fetched model: Right(value=ExtendedModel(boxWidth=0.23, rows=30, columns=[None, 0.07, None], pre_row_offsets=[0.02666666666666667, 0.03333333333333333], post_row_offsets=[], pre_col_offsets=[], post_col_offsets=[]), tag='right')\n"
     ]
    }
   ],
   "source": [
    "modelId = input('Model ID: ')\n",
    "(await sm.save_model(modelId, model, conn_str=os.environ['BLOB_CONN_STR'])).unsafe()\n",
    "print('Model saved! Verifying...')\n",
    "fetched_model = await sm.fetch_model(modelId)\n",
    "print('Fetched model:', fetched_model)"
   ]
  },
  {
   "cell_type": "code",
   "execution_count": 132,
   "metadata": {},
   "outputs": [
    {
     "data": {
      "text/plain": [
       "[Right(value=('andorra.json', ExtendedModel(boxWidth=0.141, rows=20, columns=[None, 0.024, 0.05, None, 0.024, 0.05, None], pre_row_offsets=[0.03, 0.05], post_row_offsets=[], pre_col_offsets=[], post_col_offsets=[])), tag='right'),\n",
       " Right(value=('fcde.json', ExtendedModel(boxWidth=0.147, rows=25, columns=[None, 0.024, 0.036, None, 0.024, 0.036, None], pre_row_offsets=[0.04], post_row_offsets=[0.07200000000000001, 0.032], pre_col_offsets=[], post_col_offsets=[])), tag='right'),\n",
       " Right(value=('llobregat23.json', ExtendedModel(boxWidth=0.23, rows=30, columns=[None, 0.07, None], pre_row_offsets=[0.02666666666666667, 0.03333333333333333], post_row_offsets=[], pre_col_offsets=[], post_col_offsets=[])), tag='right')]"
      ]
     },
     "execution_count": 132,
     "metadata": {},
     "output_type": "execute_result"
    },
    {
     "ename": "",
     "evalue": "",
     "output_type": "error",
     "traceback": [
      "\u001b[1;31mThe Kernel crashed while executing code in the current cell or a previous cell. \n",
      "\u001b[1;31mPlease review the code in the cell(s) to identify a possible cause of the failure. \n",
      "\u001b[1;31mClick <a href='https://aka.ms/vscodeJupyterKernelCrash'>here</a> for more info. \n",
      "\u001b[1;31mView Jupyter <a href='command:jupyter.viewOutput'>log</a> for further details."
     ]
    }
   ],
   "source": [
    "kv = sm.models_kv(os.environ['BLOB_CONN_STR'])\n",
    "await kv.items().sync()"
   ]
  }
 ],
 "metadata": {
  "kernelspec": {
   "display_name": ".venv",
   "language": "python",
   "name": "python3"
  },
  "language_info": {
   "codemirror_mode": {
    "name": "ipython",
    "version": 3
   },
   "file_extension": ".py",
   "mimetype": "text/x-python",
   "name": "python",
   "nbconvert_exporter": "python",
   "pygments_lexer": "ipython3",
   "version": "3.11.6"
  }
 },
 "nbformat": 4,
 "nbformat_minor": 2
}
