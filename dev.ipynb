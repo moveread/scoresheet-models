{
 "cells": [
  {
   "cell_type": "code",
   "execution_count": 4,
   "metadata": {},
   "outputs": [],
   "source": [
    "from haskellian import funcs as F\n",
    "import pure_cv as vc\n",
    "import cv2 as cv\n",
    "import numpy as np\n",
    "from scoresheet_models import Model, models, draw\n",
    "from robust_extraction import templates as ts"
   ]
  },
  {
   "cell_type": "code",
   "execution_count": 10,
   "metadata": {},
   "outputs": [],
   "source": [
    "xs = ts.models['fcde'].cols.points\n",
    "bw = models['fcde'].boxWidth"
   ]
  },
  {
   "cell_type": "code",
   "execution_count": 17,
   "metadata": {},
   "outputs": [
    {
     "data": {
      "text/plain": [
       "([0.14509394397496592,\n",
       "  0.14509394397496592,\n",
       "  0.02818371763906058,\n",
       "  0.03653445043604164,\n",
       "  0.14509394397496592,\n",
       "  0.14509394397496592,\n",
       "  0.02818371763906058,\n",
       "  0.03653445043604164,\n",
       "  0.14509394397496592,\n",
       "  0.14509394397496592],\n",
       " [0.0,\n",
       "  0.03524672985076904,\n",
       "  0.1752265840768814,\n",
       "  0.3152064383029938,\n",
       "  0.34239677153527737,\n",
       "  0.3776435013860464,\n",
       "  0.5176233556121588,\n",
       "  0.6576032098382711,\n",
       "  0.6847935430705547,\n",
       "  0.7200402729213238,\n",
       "  0.8600201271474361,\n",
       "  0.9999999813735485])"
      ]
     },
     "execution_count": 17,
     "metadata": {},
     "output_type": "execute_result"
    }
   ],
   "source": [
    "models['fcde'].col_offsets, xs"
   ]
  },
  {
   "cell_type": "code",
   "execution_count": 2,
   "metadata": {},
   "outputs": [
    {
     "data": {
      "text/plain": [
       "Model(boxWidth=0.14509394397496592, rows=25, columns=[None, 0.02818371763906058, 0.03653445043604164, None, 0.02818371763906058, 0.03653445043604164, None])"
      ]
     },
     "execution_count": 2,
     "metadata": {},
     "output_type": "execute_result"
    }
   ],
   "source": [
    "models['fcde']"
   ]
  }
 ],
 "metadata": {
  "kernelspec": {
   "display_name": ".venv",
   "language": "python",
   "name": "python3"
  },
  "language_info": {
   "codemirror_mode": {
    "name": "ipython",
    "version": 3
   },
   "file_extension": ".py",
   "mimetype": "text/x-python",
   "name": "python",
   "nbconvert_exporter": "python",
   "pygments_lexer": "ipython3",
   "version": "3.11.6"
  }
 },
 "nbformat": 4,
 "nbformat_minor": 2
}
