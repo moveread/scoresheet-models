{
 "cells": [
  {
   "cell_type": "code",
   "execution_count": 1,
   "metadata": {},
   "outputs": [
    {
     "data": {
      "text/plain": [
       "[\n",
       "  \u001b[33m0\u001b[39m,\n",
       "  \u001b[33m0.14509394397496592\u001b[39m,\n",
       "  \u001b[33m0.29018788794993183\u001b[39m,\n",
       "  \u001b[33m0.3183716055889924\u001b[39m,\n",
       "  \u001b[33m0.35490605602503406\u001b[39m,\n",
       "  \u001b[33m0.5\u001b[39m,\n",
       "  \u001b[33m0.6450939439749659\u001b[39m,\n",
       "  \u001b[33m0.6732776616140265\u001b[39m,\n",
       "  \u001b[33m0.7098121120500681\u001b[39m,\n",
       "  \u001b[33m0.854906056025034\u001b[39m,\n",
       "  \u001b[33m1\u001b[39m\n",
       "]"
      ]
     },
     "execution_count": 1,
     "metadata": {},
     "output_type": "execute_result"
    }
   ],
   "source": []
  },
  {
   "cell_type": "code",
   "execution_count": 5,
   "metadata": {},
   "outputs": [
    {
     "data": {
      "text/plain": [
       "{\n",
       "  rows: [\n",
       "      \u001b[33m0\u001b[39m, \u001b[33m0.04\u001b[39m, \u001b[33m0.08\u001b[39m, \u001b[33m0.12\u001b[39m, \u001b[33m0.16\u001b[39m,\n",
       "    \u001b[33m0.2\u001b[39m, \u001b[33m0.24\u001b[39m, \u001b[33m0.28\u001b[39m, \u001b[33m0.32\u001b[39m, \u001b[33m0.36\u001b[39m,\n",
       "    \u001b[33m0.4\u001b[39m, \u001b[33m0.44\u001b[39m, \u001b[33m0.48\u001b[39m, \u001b[33m0.52\u001b[39m, \u001b[33m0.56\u001b[39m,\n",
       "    \u001b[33m0.6\u001b[39m, \u001b[33m0.64\u001b[39m, \u001b[33m0.68\u001b[39m, \u001b[33m0.72\u001b[39m, \u001b[33m0.76\u001b[39m,\n",
       "    \u001b[33m0.8\u001b[39m, \u001b[33m0.84\u001b[39m, \u001b[33m0.88\u001b[39m, \u001b[33m0.92\u001b[39m, \u001b[33m0.96\u001b[39m,\n",
       "      \u001b[33m1\u001b[39m\n",
       "  ],\n",
       "  cols: [\n",
       "    \u001b[33m0\u001b[39m,\n",
       "    \u001b[33m0.14509394397496592\u001b[39m,\n",
       "    \u001b[33m0.29018788794993183\u001b[39m,\n",
       "    \u001b[33m0.3183716055889924\u001b[39m,\n",
       "    \u001b[33m0.35490605602503406\u001b[39m,\n",
       "    \u001b[33m0.5\u001b[39m,\n",
       "    \u001b[33m0.6450939439749659\u001b[39m,\n",
       "    \u001b[33m0.6732776616140265\u001b[39m,\n",
       "    \u001b[33m0.7098121120500681\u001b[39m,\n",
       "    \u001b[33m0.854906056025034\u001b[39m,\n",
       "    \u001b[33m1\u001b[39m\n",
       "  ]\n",
       "}"
      ]
     },
     "execution_count": 5,
     "metadata": {},
     "output_type": "execute_result"
    }
   ],
   "source": [
    "import { rowLines } from \"./src/defs.ts\";\n",
    "import { Grid } from \"./src/index.ts\";import { columnLines } from \"./src/defs.ts\";\n",
    "import { fcde } from './src/models.ts'\n",
    "import { grid } from \"./src/grid.ts\";\n",
    "\n",
    "\n",
    "export const fcdeTemplate: Grid = {\n",
    "  rows: [0.0, 0.04, 0.08, 0.12, 0.16, 0.2, 0.24, 0.28, 0.32, 0.36, 0.4, 0.44, 0.48, 0.52, 0.56, 0.6, 0.64, 0.68, 0.72, 0.76, 0.8, 0.84, 0.88, 0.92, 0.96, 1.0],\n",
    "  cols: [0.0, 0.14509394397496592, 0.29018788794993183, 0.3183716055889924, 0.35490605602503406, 0.5, 0.6450939439749659, 0.6732776616140265, 0.7098121120500681, 0.8549060560250341, 1.0]\n",
    "}\n",
    "\n",
    "grid(fcde)"
   ]
  }
 ],
 "metadata": {
  "kernelspec": {
   "display_name": "Deno",
   "language": "typescript",
   "name": "deno"
  },
  "language_info": {
   "file_extension": ".ts",
   "mimetype": "text/x.typescript",
   "name": "typescript",
   "nb_converter": "script",
   "pygments_lexer": "typescript",
   "version": "5.3.3"
  }
 },
 "nbformat": 4,
 "nbformat_minor": 2
}
